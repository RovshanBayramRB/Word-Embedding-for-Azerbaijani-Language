{
  "nbformat": 4,
  "nbformat_minor": 0,
  "metadata": {
    "colab": {
      "name": "SDP Code.ipynb",
      "provenance": [],
      "collapsed_sections": []
    },
    "kernelspec": {
      "name": "python3",
      "display_name": "Python 3"
    },
    "language_info": {
      "name": "python"
    }
  },
  "cells": [
    {
      "cell_type": "code",
      "metadata": {
        "id": "e-m7_0nd9-YW"
      },
      "source": [
        "#Importing Necessary Libraries\n",
        "import os\n",
        "import re\n",
        "from nltk.tokenize import sent_tokenize\n",
        "import gensim\n",
        "from gensim.models import FastText\n",
        "from gensim.models import Word2Vec\n",
        "from gensim.models import KeyedVectors\n",
        "import nltk\n",
        "nltk.download('punkt')"
      ],
      "execution_count": null,
      "outputs": []
    },
    {
      "cell_type": "code",
      "metadata": {
        "id": "ThCj4OVo8lo5"
      },
      "source": [
        "#Cleaning datas for Azerbaijani language\n",
        "files = list()\n",
        "for file in os.listdir(\"path_to_data_files\"):\n",
        "    if file.endswith('.txt'):\n",
        "        text = (open(\"path_to_data_files\" + file, encoding = \"utf-8\")).read()\n",
        "        text = text.replace(u'\\xa0', u'').replace(u'\\n', u' ').replace(\"Ģ\", \"ş\").replace(\"Ġ\", \"i\").replace(\",\", \" \").replace(\":\", \" \").lower()\n",
        "        text = text.replace(u'...', u'.').replace(u'...', u'.').replace(u'..', u'.').replace(u\".\", u\" . \")\n",
        "        text = re.sub(\"[^qüertyuiopöğasdfghjklıəzxcvbnmçşi. \\.]\", \"\", text)\n",
        "        files.append(text)"
      ],
      "execution_count": null,
      "outputs": []
    },
    {
      "cell_type": "code",
      "metadata": {
        "id": "YceK4OiBAc_6"
      },
      "source": [
        "#Merging all cleaned texts into one data corpus\n",
        "corpus = ' '.join(files)"
      ],
      "execution_count": null,
      "outputs": []
    },
    {
      "cell_type": "code",
      "metadata": {
        "id": "DRMnMfiT9-h9"
      },
      "source": [
        "#Counting Number of Tokens, our corpus has 76116387 tokens\n",
        "i = 0\n",
        "pattern = re.compile(r'\\w+')\n",
        "for sent in nltk.sent_tokenize(corpus):\n",
        "    i = i + len(pattern.findall(sent))\n",
        "print(i)"
      ],
      "execution_count": null,
      "outputs": []
    },
    {
      "cell_type": "code",
      "metadata": {
        "id": "Sc1NLSDd9-sn"
      },
      "source": [
        "#Creating new cleaned data corpus\n",
        "file = open(\"dataCorpus.txt\", \"w\", encoding = \"utf-8\")\n",
        "file.write(corpus)\n",
        "file.close()"
      ],
      "execution_count": null,
      "outputs": []
    },
    {
      "cell_type": "code",
      "metadata": {
        "id": "xxF4tAn_AG9n"
      },
      "source": [
        "#Creating CBOW Word2vec model\n",
        "modelCBOWw2v = Word2Vec(sentences = gensim.models.word2vec.LineSentence(\"path_to_data_corpus\"))"
      ],
      "execution_count": null,
      "outputs": []
    },
    {
      "cell_type": "code",
      "metadata": {
        "id": "VEFPZ13uAwWW"
      },
      "source": [
        "#Checking cosine similarity between two words\n",
        "modelCBOWw2v.similarity('first_word', 'second_word')"
      ],
      "execution_count": null,
      "outputs": []
    },
    {
      "cell_type": "code",
      "metadata": {
        "id": "PCDDC4w2BAMW"
      },
      "source": [
        "#Showing top 5 similar words to a given words with their cosie similarities\n",
        "modelCBOWw2v.wv.most_similar(\"word\", topn = 5)"
      ],
      "execution_count": null,
      "outputs": []
    },
    {
      "cell_type": "code",
      "metadata": {
        "id": "-zKc3YO3D9CN"
      },
      "source": [
        "#Checking Word Analogy\n",
        "modelCBOWw2v.wv.most_similar(positive = [\"first_positive_word\", \"second_positive_word\"], negative = [\"negative_word\"], topn = 1)"
      ],
      "execution_count": null,
      "outputs": []
    },
    {
      "cell_type": "code",
      "metadata": {
        "id": "DFpgb5cIBOdF"
      },
      "source": [
        "#Checking syntactic and semantic, capital-country scores of the model, Intrinsic Evaluation\n",
        "print (f\" syntactic score: - {modelCBOWw2v.wv.evaluate_word_analogies('path_to_syntactic_inputs')[0]}\")\n",
        "print (f\" semantic score: - {modelCBOWw2v.wv.evaluate_word_analogies('path_to_semantic_inputs')[0]}\" ) \n",
        "print (f\" capital-country score: - {modelCBOWw2v.wv.evaluate_word_analogies('path_to_capital_country_score_data')[0]}\" )"
      ],
      "execution_count": null,
      "outputs": []
    },
    {
      "cell_type": "code",
      "metadata": {
        "id": "cIRLfaOpByGQ"
      },
      "source": [
        "#Saving The Model\n",
        "modelCBOWw2v.wv.save_word2vec_format(\"CBOWw2v.txt\", binary = False)"
      ],
      "execution_count": null,
      "outputs": []
    },
    {
      "cell_type": "code",
      "metadata": {
        "id": "vL0--4mgCmb4"
      },
      "source": [
        "#Delete model in order not to load RAM a lot\n",
        "modelCBOWw2v = None"
      ],
      "execution_count": null,
      "outputs": []
    },
    {
      "cell_type": "code",
      "metadata": {
        "id": "XqZtL4FMMhlO"
      },
      "source": [
        ""
      ],
      "execution_count": null,
      "outputs": []
    },
    {
      "cell_type": "code",
      "metadata": {
        "id": "UKwTEcPNBy4E"
      },
      "source": [
        "#Creating Skip-Gram Word2vec model\n",
        "modelSGw2v = Word2Vec(sentences = gensim.models.word2vec.LineSentence(\"path_to_data_corpus\"), sg = 1)"
      ],
      "execution_count": null,
      "outputs": []
    },
    {
      "cell_type": "code",
      "metadata": {
        "id": "npiLIgBYBysq"
      },
      "source": [
        "#Checking cosine similarity between two words\n",
        "modelSGw2v.similarity('first_word', 'second_word')"
      ],
      "execution_count": null,
      "outputs": []
    },
    {
      "cell_type": "code",
      "metadata": {
        "id": "MbruLLSbBypo"
      },
      "source": [
        "#Showing top 5 similar words to a given words with their cosie similarities\n",
        "modelSGw2v.wv.most_similar(\"word\", topn = 5)"
      ],
      "execution_count": null,
      "outputs": []
    },
    {
      "cell_type": "code",
      "metadata": {
        "id": "hmu9pq80D7eN"
      },
      "source": [
        "#Checking Word Analogy\n",
        "modelSGw2v.wv.most_similar(positive = [\"first_positive_word\", \"second_positive_word\"], negative = [\"negative_word\"], topn = 1)"
      ],
      "execution_count": null,
      "outputs": []
    },
    {
      "cell_type": "code",
      "metadata": {
        "id": "L9QQHoZQChHO"
      },
      "source": [
        "#Checking syntactic and semantic, capital-country scores of the model, Intrinsic Evaluation\n",
        "print (f\" syntactic score: - {modelSGw2v.wv.evaluate_word_analogies('path_to_syntactic_inputs')[0]}\")\n",
        "print (f\" semantic score: - {modelSGw2v.wv.evaluate_word_analogies('path_to_semantic_inputs')[0]}\" ) \n",
        "print (f\" capital-country score: - {modelSGw2v.wv.evaluate_word_analogies('path_to_capital_country_score_data')[0]}\" )"
      ],
      "execution_count": null,
      "outputs": []
    },
    {
      "cell_type": "code",
      "metadata": {
        "id": "yUTBjQ5LCuYS"
      },
      "source": [
        "#Saving The Model\n",
        "modelSGw2v.wv.save_word2vec_format(\"SGw2v.txt\", binary = False)"
      ],
      "execution_count": null,
      "outputs": []
    },
    {
      "cell_type": "code",
      "metadata": {
        "id": "ycYYZyxTCuP7"
      },
      "source": [
        "#Delete model in order not to load RAM a lot\n",
        "modelSGw2v = None"
      ],
      "execution_count": null,
      "outputs": []
    },
    {
      "cell_type": "code",
      "metadata": {
        "id": "UsP_quR2Mjfp"
      },
      "source": [
        ""
      ],
      "execution_count": null,
      "outputs": []
    },
    {
      "cell_type": "code",
      "metadata": {
        "id": "i2wFByOsC4Y2"
      },
      "source": [
        "#Creating CBOW FastText model\n",
        "modelCBOWFT = FastText(sentences = gensim.models.word2vec.LineSentence(\"path_to_data_corpus\"), min_n = 4, max_n = 2)"
      ],
      "execution_count": null,
      "outputs": []
    },
    {
      "cell_type": "code",
      "metadata": {
        "id": "oKMbahjAC4Rc"
      },
      "source": [
        "#Checking cosine similarity between two words\n",
        "modelCBOWFT.similarity('first_word', 'second_word')"
      ],
      "execution_count": null,
      "outputs": []
    },
    {
      "cell_type": "code",
      "metadata": {
        "id": "FC28CUdLC4Jo"
      },
      "source": [
        "#Showing top 5 similar words to a given words with their cosie similarities\n",
        "modelCBOWFT.wv.most_similar(\"word\", topn = 5)"
      ],
      "execution_count": null,
      "outputs": []
    },
    {
      "cell_type": "code",
      "metadata": {
        "id": "NKanbDbMDs2P"
      },
      "source": [
        "#Checking Word Analogy\n",
        "modelCBOWFT.wv.most_similar(positive = [\"first_positive_word\", \"second_positive_word\"], negative = [\"negative_word\"], topn = 1)"
      ],
      "execution_count": null,
      "outputs": []
    },
    {
      "cell_type": "code",
      "metadata": {
        "id": "S4uNYFYXC4Bp"
      },
      "source": [
        "#Checking syntactic and semantic, capital-country scores of the model, Intrinsic Evaluation\n",
        "print (f\" syntactic score: - {modelCBOWFT.wv.evaluate_word_analogies('path_to_syntactic_inputs')[0]}\")\n",
        "print (f\" semantic score: - {modelCBOWFT.wv.evaluate_word_analogies('path_to_semantic_inputs')[0]}\" ) \n",
        "print (f\" capital-country score: - {modelCBOWFT.wv.evaluate_word_analogies('path_to_capital_country_score_data')[0]}\" )"
      ],
      "execution_count": null,
      "outputs": []
    },
    {
      "cell_type": "code",
      "metadata": {
        "id": "4UTsHBONC35S"
      },
      "source": [
        "#Saving The Model\n",
        "modelCBOWFT.wv.save_word2vec_format(\"CBOWFT.txt\", binary = False)"
      ],
      "execution_count": null,
      "outputs": []
    },
    {
      "cell_type": "code",
      "metadata": {
        "id": "axu0-EUiC3xf"
      },
      "source": [
        "#Delete model in order not to load RAM a lot\n",
        "modelCBOWFT = None"
      ],
      "execution_count": null,
      "outputs": []
    },
    {
      "cell_type": "code",
      "metadata": {
        "id": "92hqnOqCMlvh"
      },
      "source": [
        ""
      ],
      "execution_count": null,
      "outputs": []
    },
    {
      "cell_type": "code",
      "metadata": {
        "id": "QFScNoCcLnc7"
      },
      "source": [
        "#Creating Skip-Gram FastText model\n",
        "modelSGFT = FastText(sentences=gensim.models.word2vec.LineSentence(\"/content/drive/MyDrive/corpus.txt\"), sg = 1, min_n = 2, max_n = 4, size = 300, bucket = 500000)"
      ],
      "execution_count": null,
      "outputs": []
    },
    {
      "cell_type": "code",
      "metadata": {
        "id": "zf-4Hr8HLnYe"
      },
      "source": [
        "#Checking cosine similarity between two words\n",
        "modelSGFT.similarity('first_word', 'second_word')"
      ],
      "execution_count": null,
      "outputs": []
    },
    {
      "cell_type": "code",
      "metadata": {
        "id": "jeq4OuRhLnWu"
      },
      "source": [
        "#Showing top 5 similar words to a given words with their cosie similarities\n",
        "modelSGFT.wv.most_similar(\"word\", topn = 5)"
      ],
      "execution_count": null,
      "outputs": []
    },
    {
      "cell_type": "code",
      "metadata": {
        "id": "ezdp7VD4L7xv"
      },
      "source": [
        "#Checking Word Analogy\n",
        "modelSGFT.wv.most_similar(positive = [\"first_positive_word\", \"second_positive_word\"], negative = [\"negative_word\"], topn = 1)"
      ],
      "execution_count": null,
      "outputs": []
    },
    {
      "cell_type": "code",
      "metadata": {
        "id": "6OT1ZvHnL_P4"
      },
      "source": [
        "#Checking syntactic and semantic, capital-country scores of the model, Intrinsic Evaluation\n",
        "print (f\" syntactic score: - {modelSGFT.wv.evaluate_word_analogies('path_to_syntactic_inputs')[0]}\")\n",
        "print (f\" semantic score: - {modelSGFT.wv.evaluate_word_analogies('path_to_semantic_inputs')[0]}\" ) \n",
        "print (f\" capital-country score: - {modelSGFT.wv.evaluate_word_analogies('path_to_capital_country_score_data')[0]}\" )"
      ],
      "execution_count": null,
      "outputs": []
    },
    {
      "cell_type": "code",
      "metadata": {
        "id": "qg0pTaNNL_Lt"
      },
      "source": [
        "#Saving The Model\n",
        "modelSGFT.wv.save_word2vec_format(\"SGFT.txt\", binary = False)"
      ],
      "execution_count": null,
      "outputs": []
    },
    {
      "cell_type": "code",
      "metadata": {
        "id": "IATonBobL_Jm"
      },
      "source": [
        "#Delete model in order not to load RAM a lot\n",
        "modelSGFT = None"
      ],
      "execution_count": null,
      "outputs": []
    },
    {
      "cell_type": "code",
      "metadata": {
        "id": "fV8UOPP2C3ph"
      },
      "source": [
        "#After Creating and Saving all models, you can load and use each model with below statement\n",
        "model_name = KeyedVectors.load_word2vec_format(\"path_to_model_file\")"
      ],
      "execution_count": null,
      "outputs": []
    }
  ]
}